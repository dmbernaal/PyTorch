{
 "cells": [
  {
   "cell_type": "markdown",
   "metadata": {},
   "source": [
    "# NLP"
   ]
  },
  {
   "cell_type": "markdown",
   "metadata": {},
   "source": [
    "### Corpus\n",
    "All NLP Memthods, be they classfic or mordern, begin with a text dataset, also. A corpus usually contains raw text and any metadata associated with the text. \n",
    "\n",
    "The raw text is a sequence of characters (bytes), but most times it is usefol to group those characters into contigious units called:\n",
    "\n",
    "### Tokens\n",
    "Tokens correspond to words and numeric sequences seperated by white-space character or punctuation. \n",
    "\n",
    "### Metadata\n",
    "The metadata could be any auxilliary piece of information associated with the text, like **identifiers**, **labels**, and **timestamps**. \n",
    "\n",
    "### Datapoint\n",
    "In Machine Learning parlance, the text along with the metadata is called an **instance** or **datapoint**\n",
    "\n",
    "### Dataset\n",
    "A dataset is a collection of **instances** "
   ]
  },
  {
   "cell_type": "markdown",
   "metadata": {},
   "source": [
    "The process of breaking a test down into tokens is called **Tokenization** "
   ]
  },
  {
   "cell_type": "code",
   "execution_count": 57,
   "metadata": {},
   "outputs": [],
   "source": [
    "# Tokenizing Text\n",
    "import spacy\n",
    "from nltk.tokenize import TweetTokenizer\n",
    "import time\n",
    "nlp = spacy.load('en')"
   ]
  },
  {
   "cell_type": "code",
   "execution_count": 10,
   "metadata": {},
   "outputs": [
    {
     "name": "stdout",
     "output_type": "stream",
     "text": [
      "['mary', ',', 'do', \"n't\", 'slapp', 'the', 'green', 'witch', '.']\n"
     ]
    }
   ],
   "source": [
    "text = \"Mary, don't slapp the green witch.\"\n",
    "print([str(token) for token in nlp(text.lower())])"
   ]
  },
  {
   "cell_type": "code",
   "execution_count": 18,
   "metadata": {},
   "outputs": [
    {
     "name": "stdout",
     "output_type": "stream",
     "text": [
      "['snow', 'white', 'and', 'the', 'seven', 'degrees', '#makeamoviecold', '@midnight', ':-)']\n"
     ]
    }
   ],
   "source": [
    "tweet = u\"Snow White and the Seven Degrees #MakeAMovieCold@Midnight:-)\"\n",
    "tokenizer = TweetTokenizer()\n",
    "print(tokenizer.tokenize(tweet.lower()))"
   ]
  },
  {
   "cell_type": "code",
   "execution_count": 19,
   "metadata": {},
   "outputs": [
    {
     "name": "stdout",
     "output_type": "stream",
     "text": [
      "['snow', 'white', 'and', 'the', 'seven', 'degrees', '#', 'makeamoviecold@midnight:-', ')']\n"
     ]
    }
   ],
   "source": [
    "print([str(token) for token in nlp(tweet.lower())])"
   ]
  },
  {
   "cell_type": "markdown",
   "metadata": {},
   "source": [
    "### N-grams\n",
    "N-grams are fixed-lenght (n) consecutive token sequences occurring in the text. \n",
    "\n",
    "#### Bigram\n",
    "Two tokens\n",
    "\n",
    "#### Unigram\n",
    "One token"
   ]
  },
  {
   "cell_type": "code",
   "execution_count": 22,
   "metadata": {},
   "outputs": [],
   "source": [
    "# Generating n-grams\n",
    "def n_grams(text, n):\n",
    "    \"\"\"\n",
    "    Takes tokens or text, returns a list of n-grams\n",
    "    \"\"\"\n",
    "    return [text[i:i+n] for i in range(len(text)- n+1)]"
   ]
  },
  {
   "cell_type": "code",
   "execution_count": 29,
   "metadata": {},
   "outputs": [
    {
     "name": "stdout",
     "output_type": "stream",
     "text": [
      "[['Mary', \",n't\", 'slap'], [\",n't\", 'slap', 'green'], ['slap', 'green', 'witch'], ['green', 'witch', '.']]\n"
     ]
    }
   ],
   "source": [
    "cleaned = ['Mary', ',' \"n't\", 'slap', 'green', 'witch', '.']\n",
    "print(n_grams(cleaned, 3))"
   ]
  },
  {
   "cell_type": "code",
   "execution_count": 30,
   "metadata": {},
   "outputs": [
    {
     "name": "stdout",
     "output_type": "stream",
     "text": [
      "[['Mary', \",n't\"], [\",n't\", 'slap'], ['slap', 'green'], ['green', 'witch'], ['witch', '.']]\n"
     ]
    }
   ],
   "source": [
    "cleaned = ['Mary', ',' \"n't\", 'slap', 'green', 'witch', '.']\n",
    "print(n_grams(cleaned, 2))"
   ]
  },
  {
   "cell_type": "code",
   "execution_count": 31,
   "metadata": {},
   "outputs": [
    {
     "name": "stdout",
     "output_type": "stream",
     "text": [
      "[['Mary', \",n't\", 'slap', 'green'], [\",n't\", 'slap', 'green', 'witch'], ['slap', 'green', 'witch', '.']]\n"
     ]
    }
   ],
   "source": [
    "cleaned = ['Mary', ',' \"n't\", 'slap', 'green', 'witch', '.']\n",
    "print(n_grams(cleaned, 4))"
   ]
  },
  {
   "cell_type": "markdown",
   "metadata": {},
   "source": [
    "### Lemmas\n",
    "Lemmas are root form of words. Consider the verb fly. It can be inflected into many different words - flow, flew, flies, flown, flowing, and so on. \n",
    "\n",
    "Sometimes, it might be useful to reduce the tokens to their lemmas to keep the dimensionality of the vector representation low. This reduction is called **Lemmatization** \n",
    "\n",
    "### Stemming\n",
    "Is the poor-mans **Lemmatization**. It involves the use of hand-crafted rules to strip endings of words to reduce them to a common form called **Stems**"
   ]
  },
  {
   "cell_type": "code",
   "execution_count": 33,
   "metadata": {},
   "outputs": [
    {
     "name": "stdout",
     "output_type": "stream",
     "text": [
      "he --> -PRON-\n",
      "was --> be\n",
      "running --> run\n",
      "late --> late\n"
     ]
    }
   ],
   "source": [
    "# Implementing lemmatization\n",
    "doc = nlp(u\"he was running late\")\n",
    "for token in doc:\n",
    "    print(f'{token} --> {token.lemma_}')"
   ]
  },
  {
   "cell_type": "code",
   "execution_count": 40,
   "metadata": {},
   "outputs": [
    {
     "name": "stdout",
     "output_type": "stream",
     "text": [
      "-PRON-\n",
      "be\n",
      "tell\n",
      "a\n",
      "story\n"
     ]
    }
   ],
   "source": [
    "words = nlp(u'he was telling a story')\n",
    "for doc in words:\n",
    "    print(doc.lemma_)"
   ]
  },
  {
   "cell_type": "markdown",
   "metadata": {},
   "source": [
    "### POS Tagging\n",
    "A common type of Categorizing words. "
   ]
  },
  {
   "cell_type": "code",
   "execution_count": 42,
   "metadata": {},
   "outputs": [
    {
     "name": "stdout",
     "output_type": "stream",
     "text": [
      "Mary --> PROPN\n",
      "slapped --> VERB\n",
      "Max --> PROPN\n",
      "the --> DET\n",
      "sinner --> NOUN\n"
     ]
    }
   ],
   "source": [
    "doc = nlp(u\"Mary slapped Max the sinner\")\n",
    "for token in doc:\n",
    "    print(f'{token} --> {token.pos_}')"
   ]
  },
  {
   "cell_type": "code",
   "execution_count": 66,
   "metadata": {},
   "outputs": [],
   "source": [
    "def to_pos(sentence):\n",
    "    \"\"\"\n",
    "    This function takes a sentence and will return POS tagging utilizing Spacy Framework\n",
    "    \"\"\"\n",
    "    print('processing....')\n",
    "    time.sleep(1)\n",
    "    doc = nlp(sentence)\n",
    "    for token in doc:\n",
    "        print(f'{token} --> {token.pos_}')"
   ]
  },
  {
   "cell_type": "code",
   "execution_count": 67,
   "metadata": {},
   "outputs": [],
   "source": [
    "sentence_one = \"Dave and max are both sinners\"\n",
    "sentence_two = \"Max must confess to the priest\""
   ]
  },
  {
   "cell_type": "code",
   "execution_count": 68,
   "metadata": {},
   "outputs": [
    {
     "name": "stdout",
     "output_type": "stream",
     "text": [
      "processing....\n",
      "Dave --> PROPN\n",
      "and --> CCONJ\n",
      "max --> NOUN\n",
      "are --> VERB\n",
      "both --> DET\n",
      "sinners --> NOUN\n"
     ]
    }
   ],
   "source": [
    "to_pos(sentence_one)"
   ]
  },
  {
   "cell_type": "code",
   "execution_count": 69,
   "metadata": {},
   "outputs": [
    {
     "name": "stdout",
     "output_type": "stream",
     "text": [
      "processing....\n",
      "Max --> PROPN\n",
      "must --> VERB\n",
      "confess --> VERB\n",
      "to --> ADP\n",
      "the --> DET\n",
      "priest --> NOUN\n"
     ]
    }
   ],
   "source": [
    "to_pos(sentence_two)"
   ]
  },
  {
   "cell_type": "markdown",
   "metadata": {},
   "source": [
    "### Shallow Parsing \n",
    "Shallow parsing also known as **Chunking** aims to derive higher-order units composed of the grammatical atoms, like nouns, verbs, adjectives, and so on"
   ]
  },
  {
   "cell_type": "code",
   "execution_count": 70,
   "metadata": {},
   "outputs": [
    {
     "name": "stdout",
     "output_type": "stream",
     "text": [
      "Mary - NP\n",
      "the green witch - NP\n"
     ]
    }
   ],
   "source": [
    "# Noun Phrase Chunking\n",
    "doc = nlp(u\"Mary slapped the green witch\")\n",
    "for chunk in doc.noun_chunks:\n",
    "    print(f'{chunk} - {chunk.label_}')"
   ]
  },
  {
   "cell_type": "code",
   "execution_count": 74,
   "metadata": {},
   "outputs": [],
   "source": [
    "def shallow_parsing(sentence):\n",
    "    \"\"\"\n",
    "    Takes a sentence and outputs chunks\n",
    "    \"\"\"\n",
    "    doc = nlp(sentence)\n",
    "    for chunk in doc.noun_chunks:\n",
    "        print(f'{chunk} - {chunk.label_}')"
   ]
  },
  {
   "cell_type": "code",
   "execution_count": 78,
   "metadata": {},
   "outputs": [],
   "source": [
    "sentence_one = \"This is the first sentence\"\n",
    "sentence_two = \"Diego wrote the first sentence\"\n",
    "sentence_three = \"Diego's last name is medina, Max's last name is devil\""
   ]
  },
  {
   "cell_type": "code",
   "execution_count": 76,
   "metadata": {},
   "outputs": [
    {
     "name": "stdout",
     "output_type": "stream",
     "text": [
      "the first sentence - NP\n"
     ]
    }
   ],
   "source": [
    "shallow_parsing(sentence_one)"
   ]
  },
  {
   "cell_type": "code",
   "execution_count": 77,
   "metadata": {},
   "outputs": [
    {
     "name": "stdout",
     "output_type": "stream",
     "text": [
      "Diego - NP\n",
      "the first sentence - NP\n"
     ]
    }
   ],
   "source": [
    "shallow_parsing(sentence_two)"
   ]
  },
  {
   "cell_type": "code",
   "execution_count": 79,
   "metadata": {},
   "outputs": [
    {
     "name": "stdout",
     "output_type": "stream",
     "text": [
      "Diego's last name - NP\n",
      "medina - NP\n",
      "Max's last name - NP\n",
      "devil - NP\n"
     ]
    }
   ],
   "source": [
    "shallow_parsing(sentence_three)"
   ]
  },
  {
   "cell_type": "markdown",
   "metadata": {},
   "source": [
    "### Parsing\n",
    "Whereas s\n",
    "hallow parsing identifies phrasal units, the task of identifying the relationship between them is called **Parsing** "
   ]
  },
  {
   "cell_type": "markdown",
   "metadata": {},
   "source": [
    "### Word Senses and Semantics\n",
    "Words have meanings, and often more than one. The different meanings of a word are called its *senses*. "
   ]
  },
  {
   "cell_type": "code",
   "execution_count": null,
   "metadata": {},
   "outputs": [],
   "source": []
  },
  {
   "cell_type": "code",
   "execution_count": null,
   "metadata": {},
   "outputs": [],
   "source": []
  },
  {
   "cell_type": "code",
   "execution_count": null,
   "metadata": {},
   "outputs": [],
   "source": []
  },
  {
   "cell_type": "code",
   "execution_count": null,
   "metadata": {},
   "outputs": [],
   "source": []
  },
  {
   "cell_type": "code",
   "execution_count": null,
   "metadata": {},
   "outputs": [],
   "source": []
  },
  {
   "cell_type": "code",
   "execution_count": null,
   "metadata": {},
   "outputs": [],
   "source": []
  },
  {
   "cell_type": "code",
   "execution_count": null,
   "metadata": {},
   "outputs": [],
   "source": []
  },
  {
   "cell_type": "code",
   "execution_count": null,
   "metadata": {},
   "outputs": [],
   "source": []
  },
  {
   "cell_type": "code",
   "execution_count": null,
   "metadata": {},
   "outputs": [],
   "source": []
  },
  {
   "cell_type": "code",
   "execution_count": null,
   "metadata": {},
   "outputs": [],
   "source": []
  },
  {
   "cell_type": "code",
   "execution_count": null,
   "metadata": {},
   "outputs": [],
   "source": []
  },
  {
   "cell_type": "code",
   "execution_count": null,
   "metadata": {},
   "outputs": [],
   "source": []
  },
  {
   "cell_type": "code",
   "execution_count": null,
   "metadata": {},
   "outputs": [],
   "source": []
  },
  {
   "cell_type": "code",
   "execution_count": null,
   "metadata": {},
   "outputs": [],
   "source": []
  },
  {
   "cell_type": "code",
   "execution_count": null,
   "metadata": {},
   "outputs": [],
   "source": []
  },
  {
   "cell_type": "code",
   "execution_count": null,
   "metadata": {},
   "outputs": [],
   "source": []
  },
  {
   "cell_type": "code",
   "execution_count": null,
   "metadata": {},
   "outputs": [],
   "source": []
  },
  {
   "cell_type": "code",
   "execution_count": null,
   "metadata": {},
   "outputs": [],
   "source": []
  }
 ],
 "metadata": {
  "kernelspec": {
   "display_name": "Python 3",
   "language": "python",
   "name": "python3"
  },
  "language_info": {
   "codemirror_mode": {
    "name": "ipython",
    "version": 3
   },
   "file_extension": ".py",
   "mimetype": "text/x-python",
   "name": "python",
   "nbconvert_exporter": "python",
   "pygments_lexer": "ipython3",
   "version": "3.6.8"
  }
 },
 "nbformat": 4,
 "nbformat_minor": 2
}
