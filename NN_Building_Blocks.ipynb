{
 "cells": [
  {
   "cell_type": "markdown",
   "metadata": {},
   "source": [
    "# NN Building Blocks"
   ]
  },
  {
   "cell_type": "code",
   "execution_count": 3,
   "metadata": {},
   "outputs": [],
   "source": [
    "import torch.nn as nn\n",
    "import torch"
   ]
  },
  {
   "cell_type": "code",
   "execution_count": 8,
   "metadata": {},
   "outputs": [],
   "source": [
    "l = nn.Linear(2,5) # 2 input, 5 output\n",
    "v = torch.Tensor([1,2]) # 2 inputs\n",
    "\n",
    "l1 = l(v)"
   ]
  },
  {
   "cell_type": "code",
   "execution_count": 9,
   "metadata": {},
   "outputs": [
    {
     "name": "stdout",
     "output_type": "stream",
     "text": [
      "None\n",
      "tensor([ 1.1355, -0.9446, -0.3920, -1.6683,  0.0601], grad_fn=<AddBackward0>)\n"
     ]
    }
   ],
   "source": [
    "print(l1.grad)\n",
    "print(l1)"
   ]
  },
  {
   "cell_type": "code",
   "execution_count": 10,
   "metadata": {},
   "outputs": [
    {
     "data": {
      "text/plain": [
       "Linear(in_features=2, out_features=5, bias=True)"
      ]
     },
     "execution_count": 10,
     "metadata": {},
     "output_type": "execute_result"
    }
   ],
   "source": [
    "l"
   ]
  },
  {
   "cell_type": "markdown",
   "metadata": {},
   "source": [
    "### Useful Methods\n",
    "These are some useful methods that all ```nn.Module``` children provide\n",
    "\n",
    "* ```parameters()```: A method that returns iterator of all variables which require gradient computation \n",
    "* ```zero_grad()```: This method initializes all gradients of all parameters to zero\n",
    "* ```to(device)```: This moves all module parameters to a given (CPU or GPU)\n",
    "* ```state_dict()```: This returns the dictionary with all module parameters and is useful for model serialization\n",
    "* ```load_state_dict()```: This initializes the module with the state dictionary\n",
    "* **```Sequential()```**: Allows you to combine other layers into the pipe"
   ]
  },
  {
   "cell_type": "code",
   "execution_count": 13,
   "metadata": {},
   "outputs": [],
   "source": [
    "\"\"\"\n",
    "3 layer neural network with softmax output, applied along dimension 1, ReLU non-linear functions and dropout. \n",
    "\"\"\"\n",
    "s = nn.Sequential(\n",
    "    nn.Linear(2,5),\n",
    "    nn.ReLU(),\n",
    "    nn.Linear(5,20),\n",
    "    nn.ReLU(),\n",
    "    nn.Linear(20, 10),\n",
    "    nn.Dropout(p=0.3),\n",
    "    nn.Softmax(dim=1)\n",
    ")"
   ]
  },
  {
   "cell_type": "code",
   "execution_count": 14,
   "metadata": {},
   "outputs": [
    {
     "data": {
      "text/plain": [
       "Sequential(\n",
       "  (0): Linear(in_features=2, out_features=5, bias=True)\n",
       "  (1): ReLU()\n",
       "  (2): Linear(in_features=5, out_features=20, bias=True)\n",
       "  (3): ReLU()\n",
       "  (4): Linear(in_features=20, out_features=10, bias=True)\n",
       "  (5): Dropout(p=0.3)\n",
       "  (6): Softmax()\n",
       ")"
      ]
     },
     "execution_count": 14,
     "metadata": {},
     "output_type": "execute_result"
    }
   ],
   "source": [
    "s"
   ]
  },
  {
   "cell_type": "code",
   "execution_count": 15,
   "metadata": {},
   "outputs": [
    {
     "data": {
      "text/plain": [
       "tensor([[0.0969, 0.0419, 0.0900, 0.0969, 0.1271, 0.0969, 0.1642, 0.1227, 0.1111,\n",
       "         0.0522]], grad_fn=<SoftmaxBackward>)"
      ]
     },
     "execution_count": 15,
     "metadata": {},
     "output_type": "execute_result"
    }
   ],
   "source": [
    "\"\"\"\n",
    "Forward prop example\n",
    "\"\"\"\n",
    "# input\n",
    "x = torch.Tensor([[1,2]])\n",
    "\n",
    "# feeding input to our model\n",
    "s(x)"
   ]
  },
  {
   "cell_type": "markdown",
   "metadata": {},
   "source": [
    "At it's core, ```nn.Module``` provides quite rich functionality to its children:\n",
    "* It tracks all submodules that the current module includes. For example, your building block can have two feed-forward layers used somehow to perform the block's transformation\n",
    "* It provides functions to deal with all parameters of the registered submodules. \n",
    "    * ```parameters()```: obtain a full list of the module's parameters\n",
    "    * ```zero_grads()```: zero its gradients\n",
    "    * ```to(decide)```: move to CPU or GPU\n",
    "    * ```apply()```: perform generic transformation using your own callable method\n",
    "* Establishes the convention of module application to data. Every module needs to perform its data transformation in the ```forward()``` method by overriding it. "
   ]
  },
  {
   "cell_type": "code",
   "execution_count": 20,
   "metadata": {},
   "outputs": [
    {
     "name": "stdout",
     "output_type": "stream",
     "text": [
      "OurModel_A(\n",
      "  (pipe): Sequential(\n",
      "    (0): Linear(in_features=2, out_features=5, bias=True)\n",
      "    (1): ReLU()\n",
      "    (2): Linear(in_features=5, out_features=20, bias=True)\n",
      "    (3): ReLU()\n",
      "    (4): Linear(in_features=20, out_features=3, bias=True)\n",
      "    (5): Dropout(p=0.3)\n",
      "    (6): Softmax()\n",
      "  )\n",
      ")\n",
      "tensor([[0.2626, 0.4146, 0.3229]], grad_fn=<SoftmaxBackward>)\n"
     ]
    }
   ],
   "source": [
    "# Our Model A\n",
    "class OurModel_A(nn.Module):\n",
    "    def __init__(self, input_dim, num_classes, dropout_prob=0.3):\n",
    "        super(OurModel_A, self).__init__()\n",
    "        self.pipe = nn.Sequential(\n",
    "            nn.Linear(input_dim, 5),\n",
    "            nn.ReLU(),\n",
    "            nn.Linear(5,20),\n",
    "            nn.ReLU(),\n",
    "            nn.Linear(20, num_classes),\n",
    "            nn.Dropout(p=dropout_prob),\n",
    "            nn.Softmax(dim=1)\n",
    "        )\n",
    "        \n",
    "    def forward(self, x):\n",
    "        return self.pipe(x)\n",
    "    \n",
    "if __name__ == \"__main__\":\n",
    "    net = OurModel_A(input_dim=2, num_classes=3)\n",
    "    v = torch.Tensor([[2,3]])\n",
    "    out = net(v)\n",
    "    print(net)\n",
    "    print(out)"
   ]
  },
  {
   "cell_type": "code",
   "execution_count": 30,
   "metadata": {},
   "outputs": [
    {
     "name": "stdout",
     "output_type": "stream",
     "text": [
      "OurModel_B(\n",
      "  (fc1): Linear(in_features=2, out_features=5, bias=True)\n",
      "  (fc2): Linear(in_features=5, out_features=20, bias=True)\n",
      "  (fc3): Linear(in_features=20, out_features=3, bias=True)\n",
      "  (relu): ReLU()\n",
      "  (softmax): Softmax()\n",
      "  (drop_layer): Dropout(p=0.3)\n",
      ")\n",
      "tensor([[0.3162, 0.3162, 0.3676]], grad_fn=<SoftmaxBackward>)\n"
     ]
    }
   ],
   "source": [
    "# Our Model B\n",
    "class OurModel_B(nn.Module):\n",
    "    def __init__(self, input_dim, num_classes, dropout_prob=0.3):\n",
    "        super(OurModel_B, self).__init__()\n",
    "        \n",
    "        # FC layers\n",
    "        self.fc1 = nn.Linear(input_dim, 5)\n",
    "        self.fc2 = nn.Linear(5, 20)\n",
    "        self.fc3 = nn.Linear(20, num_classes)\n",
    "        \n",
    "        # Non-Linear Functions\n",
    "        self.relu = nn.ReLU()\n",
    "        self.softmax = nn.Softmax(dim=1)\n",
    "\n",
    "        # regularization \n",
    "        self.drop_layer = nn.Dropout(p=dropout_prob)\n",
    "        \n",
    "    def forward(self, x):\n",
    "        out = self.fc1(x)\n",
    "        out = self.relu(out)\n",
    "        out = self.fc2(out)\n",
    "        out = self.relu(out)\n",
    "        out = self.fc3(out)\n",
    "        out = self.drop_layer(out)\n",
    "        out = self.softmax(out)\n",
    "        \n",
    "        return out\n",
    "    \n",
    "if __name__ == \"__main__\":\n",
    "    net = OurModel_B(input_dim=2, num_classes=3)\n",
    "    v = torch.Tensor([[2,3]])\n",
    "    out = net(v)\n",
    "    print(net)\n",
    "    print(out)"
   ]
  },
  {
   "cell_type": "code",
   "execution_count": null,
   "metadata": {},
   "outputs": [],
   "source": []
  },
  {
   "cell_type": "code",
   "execution_count": null,
   "metadata": {},
   "outputs": [],
   "source": []
  },
  {
   "cell_type": "code",
   "execution_count": null,
   "metadata": {},
   "outputs": [],
   "source": []
  },
  {
   "cell_type": "code",
   "execution_count": null,
   "metadata": {},
   "outputs": [],
   "source": []
  },
  {
   "cell_type": "code",
   "execution_count": null,
   "metadata": {},
   "outputs": [],
   "source": []
  }
 ],
 "metadata": {
  "kernelspec": {
   "display_name": "Python 3",
   "language": "python",
   "name": "python3"
  },
  "language_info": {
   "codemirror_mode": {
    "name": "ipython",
    "version": 3
   },
   "file_extension": ".py",
   "mimetype": "text/x-python",
   "name": "python",
   "nbconvert_exporter": "python",
   "pygments_lexer": "ipython3",
   "version": "3.6.8"
  }
 },
 "nbformat": 4,
 "nbformat_minor": 2
}
